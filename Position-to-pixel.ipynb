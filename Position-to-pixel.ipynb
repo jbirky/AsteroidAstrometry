{
 "cells": [
  {
   "cell_type": "code",
   "execution_count": 1,
   "metadata": {},
   "outputs": [],
   "source": [
    "import numpy as np"
   ]
  },
  {
   "cell_type": "code",
   "execution_count": 5,
   "metadata": {},
   "outputs": [],
   "source": [
    "# coordinate transformation\n",
    "\n",
    "def conversion(ra,dec,centering,pixel0):\n",
    "    '''\n",
    "    Converts sky positions to pixel values\n",
    "    '''\n",
    "    alpha = ra\n",
    "    delta = dec\n",
    "    alpha0,delta0 = centering\n",
    "    x0,y0 = pixel0\n",
    "    \n",
    "    # Converting to projected coordinates\n",
    "    X = - (np.cos(alpha-alpha0))/((np.cos(delta0)*np.cos(delta)*np.cos(alpha-alpha0))+(np.sin(delta)*np.sin(delta0)))\n",
    "    Y = - ((np.sin(delta0)*np.cos(delta)*np.cos(alpha-alpha0))-(np.cos(delta0)*np.sin(delta)))/((np.cos(delta0)*np.cos(delta)*np.cos(alpha-alpha0))+(np.sin(delta)*np.sin(delta0)))\n",
    "    \n",
    "    # Converting to pixel\n",
    "    x = f(X/p)+x0\n",
    "    y = f(Y/p)+y0\n",
    "    \n",
    "    return x,y"
   ]
  },
  {
   "cell_type": "code",
   "execution_count": 2,
   "metadata": {},
   "outputs": [],
   "source": []
  }
 ],
 "metadata": {
  "kernelspec": {
   "display_name": "Python 3",
   "language": "python",
   "name": "python3"
  },
  "language_info": {
   "codemirror_mode": {
    "name": "ipython",
    "version": 3
   },
   "file_extension": ".py",
   "mimetype": "text/x-python",
   "name": "python",
   "nbconvert_exporter": "python",
   "pygments_lexer": "ipython3",
   "version": "3.7.0"
  }
 },
 "nbformat": 4,
 "nbformat_minor": 2
}
