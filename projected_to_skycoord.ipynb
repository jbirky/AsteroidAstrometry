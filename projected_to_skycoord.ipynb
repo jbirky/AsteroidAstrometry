{
 "cells": [
  {
   "cell_type": "code",
   "execution_count": 1,
   "metadata": {},
   "outputs": [],
   "source": [
    "import numpy as np"
   ]
  },
  {
   "cell_type": "code",
   "execution_count": 2,
   "metadata": {},
   "outputs": [],
   "source": [
    "def projToSky(X,Y,alpha0,delta0):\n",
    "    alpha = np.arctan(-(X)/(np.cos(delta0)-Y*np.sin(delta0)))+alpha0\n",
    "    delta = np.arcsin((np.sin(delta0)+Y*np.cos(delta0))/(1+X**2+Y**2)**.5)\n",
    "    \n",
    "    return np.array([alpha,delta])"
   ]
  }
 ],
 "metadata": {
  "kernelspec": {
   "display_name": "Python 3",
   "language": "python",
   "name": "python3"
  },
  "language_info": {
   "codemirror_mode": {
    "name": "ipython",
    "version": 3
   },
   "file_extension": ".py",
   "mimetype": "text/x-python",
   "name": "python",
   "nbconvert_exporter": "python",
   "pygments_lexer": "ipython3",
   "version": "3.7.0"
  }
 },
 "nbformat": 4,
 "nbformat_minor": 2
}
