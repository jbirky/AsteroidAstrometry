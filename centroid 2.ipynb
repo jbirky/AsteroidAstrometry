{
 "cells": [
  {
   "cell_type": "code",
   "execution_count": 2,
   "metadata": {},
   "outputs": [],
   "source": [
    "import numpy as np\n",
    "from astropy.io import fits\n",
    "import matplotlib.pyplot as plt"
   ]
  },
  {
   "cell_type": "code",
   "execution_count": null,
   "metadata": {},
   "outputs": [],
   "source": [
    "def centroid(fits_file):\n",
    "    dt = fits.open('%s'%fits_file)[0].data\n",
    "    peak_loc = np.where(dt==dt.max())\n",
    "    \n",
    "    r = 50 # radius\n",
    "    star_img=dt[peak_loc[0][0]-r:peak_loc[0][0]+r,peak_loc[1][0]-r:peak_loc[1][0]+r]\n",
    "    \n",
    "    x_collapse=np.mean(star_img,axis=1) #collapsing the image along x-axis\n",
    "    y_collapse=np.mean(star_img,axis=0) #collapsing the iamge along y-axis\n",
    "\n",
    "    pos_x=np.arange(peak_loc[1].all()-r,peak_loc[1].all()+r)#x-position array to be used in centroid calculation\n",
    "    pos_y=np.arange(peak_loc[0].all()-r,peak_loc[0].all()+r)#y-position array to be used in centroid calculation\n",
    "    y_centroid=np.sum(x_collapse*pos_y)/np.sum(x_collapse) #computing the x-centroid\n",
    "    x_centroid=np.sum(y_collapse*pos_x)/np.sum(y_collapse) #computing the y-centroid\n",
    "\n",
    "    x_centroid_err=(np.sum(y_collapse*(pos_x-x_centroid)**2)/(np.sum(y_collapse))**2)**0.5 #errors on centroids\n",
    "    y_centroid_err=(np.sum(x_collapse*(pos_y-y_centroid)**2)/(np.sum(x_collapse))**2)**0.5\n",
    "\n",
    "    return np.array([x_centroid,y_centroid])"
   ]
  }
 ],
 "metadata": {
  "kernelspec": {
   "display_name": "Python 3",
   "language": "python",
   "name": "python3"
  },
  "language_info": {
   "codemirror_mode": {
    "name": "ipython",
    "version": 3
   },
   "file_extension": ".py",
   "mimetype": "text/x-python",
   "name": "python",
   "nbconvert_exporter": "python",
   "pygments_lexer": "ipython3",
   "version": "3.7.0"
  }
 },
 "nbformat": 4,
 "nbformat_minor": 2
}
