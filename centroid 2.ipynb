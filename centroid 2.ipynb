{
 "cells": [
  {
   "cell_type": "code",
   "execution_count": 86,
   "metadata": {},
   "outputs": [],
   "source": [
    "import numpy as np\n",
    "from astropy.io import fits\n",
    "import matplotlib.pyplot as plt\n",
    "%matplotlib tk"
   ]
  },
  {
   "cell_type": "code",
   "execution_count": 270,
   "metadata": {},
   "outputs": [],
   "source": [
    "def centroid(fits_file):\n",
    "    dt = fits.open('%s'%fits_file)[0].data\n",
    "    dt[:,254:258]=np.median(dt) #fixing bad column of pixels, replacing them with median value of the image\n",
    "\n",
    "    r = 20 # radius\n",
    "    x_centroid = []\n",
    "    y_centroid = []\n",
    "    x_centroid_err = []\n",
    "    y_centroid_err = []\n",
    "\n",
    "\n",
    "    for i in range(20):\n",
    "        peak_loc = np.where(dt==dt.max())\n",
    "        star_img=dt[peak_loc[0][0]-r:peak_loc[0][0]+r,peak_loc[1][0]-r:peak_loc[1][0]+r]\n",
    "\n",
    "        x_collapse=np.mean(star_img,axis=1) #collapsing the image along x-axis\n",
    "        y_collapse=np.mean(star_img,axis=0) #collapsing the iamge along y-axis\n",
    "\n",
    "        pos_x=np.arange(peak_loc[1][0]-r,peak_loc[1][0]+r)#x-position array to be used in centroid calculation\n",
    "        pos_y=np.arange(peak_loc[0][0]-r,peak_loc[0][0]+r)#y-position array to be used in centroid calculation\n",
    "        print(peak_loc[0][0],peak_loc[0])\n",
    "        if x_collapse.shape[0] != star_img.shape[0] or y_collapse.shape[0] != star_img.shape[0]:\n",
    "            continue\n",
    "        y_centroid.append(np.sum(x_collapse*pos_y)/np.sum(x_collapse)) #computing the x-centroid\n",
    "        x_centroid.append(np.sum(y_collapse*pos_x)/np.sum(y_collapse)) #computing the y-centroid\n",
    "\n",
    "        x_centroid_err.append((np.sum(y_collapse*(pos_x-x_centroid[i])**2)/(np.sum(y_collapse))**2)**0.5) #errors on centroids\n",
    "        y_centroid_err.append((np.sum(x_collapse*(pos_y-y_centroid[i])**2)/(np.sum(x_collapse))**2)**0.5)\n",
    "\n",
    "        dt[peak_loc[0][0]-r:peak_loc[0][0]+r,peak_loc[1][0]-r:peak_loc[1][0]+r] = 0\n",
    "    return np.array([[x_centroid,y_centroid],[x_centroid_err,y_centroid_err]])"
   ]
  },
  {
   "cell_type": "code",
   "execution_count": 249,
   "metadata": {},
   "outputs": [
    {
     "data": {
      "text/plain": [
       "(array([844, 844, 844, 845, 845, 845, 845, 846, 846, 846, 846, 846, 847,\n",
       "        847, 847, 847, 847, 848, 848]),\n",
       " array([491, 492, 493, 491, 492, 493, 494, 491, 492, 493, 494, 495, 491,\n",
       "        492, 493, 494, 495, 492, 493]))"
      ]
     },
     "execution_count": 249,
     "metadata": {},
     "output_type": "execute_result"
    }
   ],
   "source": [
    "dt = fits.open('%s'%dt_nam)[0].data\n",
    "r = 50\n",
    "peak_loc = np.where(dt==dt.max())\n",
    "peak_loc"
   ]
  },
  {
   "cell_type": "code",
   "execution_count": 274,
   "metadata": {},
   "outputs": [],
   "source": [
    "plt.imshow(np.log(dt),origin='lower',interpolation='nearest')\n",
    "plt.scatter(stuff[0][0],stuff[0][1],color='red',marker='o',s=50,facecolor='none',edgecolor='r')\n",
    "plt.show()"
   ]
  },
  {
   "cell_type": "code",
   "execution_count": 271,
   "metadata": {},
   "outputs": [
    {
     "name": "stdout",
     "output_type": "stream",
     "text": [
      "845 [845 845 845 846 846 846 846 846 847 847 847 847 847 848 848 848 848 849\n",
      " 849]\n",
      "435 [435]\n",
      "998 [998]\n",
      "574 [574]\n",
      "66 [66]\n",
      "796 [796]\n",
      "487 [487]\n",
      "803 [803]\n",
      "568 [568]\n",
      "598 [598]\n",
      "789 [789]\n",
      "228 [228]\n",
      "464 [464]\n",
      "932 [932]\n",
      "633 [633]\n",
      "42 [42]\n",
      "324 [324]\n",
      "748 [748]\n",
      "116 [116]\n",
      "48 [48]\n"
     ]
    },
    {
     "data": {
      "text/plain": [
       "array([[[4.91610366e+02, 4.18702769e+02, 1.52522969e+02, 3.58497413e+02,\n",
       "         4.26741807e+02, 1.02195050e+03, 9.65497644e+02, 5.53499484e+02,\n",
       "         7.12497870e+02, 4.51499987e+02, 9.53510684e+02, 1.71500972e+02,\n",
       "         1.82502017e+02, 5.47512183e+02, 9.10499021e+02, 6.76501436e+02,\n",
       "         1.72516092e+02, 4.65490942e+02, 9.10502077e+02, 3.33503931e+02],\n",
       "        [8.45891191e+02, 4.34709636e+02, 9.97537242e+02, 5.73466312e+02,\n",
       "         6.54899467e+01, 7.95521084e+02, 4.86509893e+02, 8.02509502e+02,\n",
       "         5.67501353e+02, 5.97499913e+02, 7.88491695e+02, 2.27513712e+02,\n",
       "         4.63502370e+02, 9.31519179e+02, 6.32497077e+02, 4.15111898e+01,\n",
       "         3.23507956e+02, 7.47488698e+02, 1.15500228e+02, 4.74950499e+01]],\n",
       "\n",
       "       [[2.11676230e-02, 3.31670118e-02, 5.14281852e-02, 5.25711585e-02,\n",
       "         5.32690483e-02, 5.35492832e-02, 5.35821537e-02, 5.39610676e-02,\n",
       "         5.40438403e-02, 5.41128073e-02, 5.55892969e-02, 5.42729502e-02,\n",
       "         5.55812282e-02, 5.41712322e-02, 5.45275403e-02, 5.47919746e-02,\n",
       "         5.46648762e-02, 5.44543746e-02, 5.50649625e-02, 5.50614102e-02],\n",
       "        [2.13420545e-02, 3.32505412e-02, 5.14382973e-02, 5.25780842e-02,\n",
       "         5.25491070e-02, 5.43929081e-02, 5.35408814e-02, 5.39472759e-02,\n",
       "         5.40457659e-02, 5.40825717e-02, 5.55884937e-02, 5.42846563e-02,\n",
       "         5.55779424e-02, 5.42081986e-02, 5.45403673e-02, 5.47910236e-02,\n",
       "         5.46824270e-02, 5.44791137e-02, 5.50686982e-02, 5.50068113e-02]]])"
      ]
     },
     "execution_count": 271,
     "metadata": {},
     "output_type": "execute_result"
    }
   ],
   "source": [
    "dt_nam = 'astroid_data/kalliope/df1/d1037.fits'\n",
    "stuff = centroid(dt_nam)\n",
    "stuff"
   ]
  },
  {
   "cell_type": "code",
   "execution_count": 187,
   "metadata": {},
   "outputs": [
    {
     "data": {
      "text/plain": [
       "array([[1082, 1072, 1086, ..., 1084, 1084, 1090],\n",
       "       [1057, 1083, 1091, ..., 1091, 1091, 1086],\n",
       "       [1080, 1079, 1097, ..., 1076, 1101, 1077],\n",
       "       ...,\n",
       "       [1074, 1085, 1101, ..., 1075, 1098, 1065],\n",
       "       [1078, 1072, 1088, ..., 1100, 1089, 1086],\n",
       "       [1083, 1087, 1082, ..., 1062, 1082, 1088]], dtype=uint16)"
      ]
     },
     "execution_count": 187,
     "metadata": {},
     "output_type": "execute_result"
    }
   ],
   "source": [
    "star_img=dt[peak_loc[0][1]-r:peak_loc[0][1]+r,peak_loc[1][1]-r:peak_loc[1][1]+r]\n",
    "star_img"
   ]
  },
  {
   "cell_type": "code",
   "execution_count": 188,
   "metadata": {},
   "outputs": [
    {
     "data": {
      "text/plain": [
       "(array([1081.09, 1082.03, 1083.09, 1082.34, 1083.29, 1084.39, 1083.83,\n",
       "        1083.57, 1085.1 , 1085.08, 1086.28, 1085.29, 1087.16, 1087.78,\n",
       "        1086.07, 1087.9 , 1087.67, 1089.33, 1090.3 , 1088.97, 1090.13,\n",
       "        1092.4 , 1092.65, 1092.55, 1094.73, 1098.25, 1099.21, 1101.15,\n",
       "        1103.89, 1107.86, 1109.71, 1113.71, 1118.14, 1124.24, 1128.46,\n",
       "        1135.33, 1140.86, 1151.61, 1162.55, 1174.73, 1197.12, 1221.73,\n",
       "        1263.95, 1328.95, 1441.01, 1660.25, 2093.63, 2950.17, 4485.89,\n",
       "        5497.65, 6042.82, 6103.17, 5529.67, 4405.4 , 2780.99, 1914.07,\n",
       "        1560.58, 1387.62, 1286.05, 1227.05, 1188.62, 1166.4 , 1150.61,\n",
       "        1140.89, 1137.85, 1130.63, 1131.65, 1138.59, 1133.88, 1129.5 ,\n",
       "        1120.29, 1114.61, 1107.6 , 1102.57, 1098.82, 1098.03, 1095.19,\n",
       "        1092.75, 1093.2 , 1091.1 , 1089.46, 1090.52, 1087.41, 1088.94,\n",
       "        1091.16, 1094.41, 1094.31, 1095.  , 1092.36, 1088.02, 1085.8 ,\n",
       "        1084.71, 1082.92, 1082.03, 1083.72, 1081.91, 1082.97, 1082.06,\n",
       "        1082.77, 1081.36]),\n",
       " array([1081.3 , 1083.43, 1083.21, 1082.99, 1083.45, 1082.88, 1083.7 ,\n",
       "        1084.45, 1084.34, 1085.13, 1083.92, 1085.64, 1086.76, 1086.67,\n",
       "        1087.87, 1087.24, 1088.23, 1087.96, 1090.35, 1091.64, 1090.58,\n",
       "        1092.61, 1091.98, 1094.07, 1093.55, 1096.7 , 1098.57, 1100.27,\n",
       "        1101.26, 1102.94, 1107.9 , 1112.38, 1116.6 , 1121.04, 1125.63,\n",
       "        1134.06, 1138.9 , 1147.71, 1157.77, 1170.37, 1186.69, 1212.12,\n",
       "        1246.21, 1298.01, 1377.29, 1508.49, 1721.78, 2053.98, 2637.05,\n",
       "        3689.61, 4961.61, 5688.74, 6070.83, 5856.74, 4988.6 , 3144.96,\n",
       "        2142.74, 1671.58, 1438.59, 1319.7 , 1257.44, 1218.79, 1199.45,\n",
       "        1183.44, 1162.93, 1150.89, 1140.16, 1134.46, 1131.28, 1128.32,\n",
       "        1122.84, 1115.29, 1107.3 , 1104.19, 1101.57, 1095.33, 1093.23,\n",
       "        1090.53, 1089.84, 1089.04, 1088.2 , 1087.14, 1095.02, 1086.15,\n",
       "        1086.59, 1085.84, 1082.87, 1084.62, 1084.84, 1085.05, 1083.2 ,\n",
       "        1083.55, 1084.69, 1082.62, 1081.68, 1082.38, 1081.15, 1081.89,\n",
       "        1079.  , 1080.94]))"
      ]
     },
     "execution_count": 188,
     "metadata": {},
     "output_type": "execute_result"
    }
   ],
   "source": [
    "x_collapse=np.mean(star_img,axis=0) #collapsing the image along x-axis\n",
    "y_collapse=np.mean(star_img,axis=1) #collapsing the iamge along y-axis\n",
    "\n",
    "x_collapse,y_collapse"
   ]
  },
  {
   "cell_type": "code",
   "execution_count": 189,
   "metadata": {},
   "outputs": [
    {
     "data": {
      "text/plain": [
       "(array([-49, -48, -47, -46, -45, -44, -43, -42, -41, -40, -39, -38, -37,\n",
       "        -36, -35, -34, -33, -32, -31, -30, -29, -28, -27, -26, -25, -24,\n",
       "        -23, -22, -21, -20, -19, -18, -17, -16, -15, -14, -13, -12, -11,\n",
       "        -10,  -9,  -8,  -7,  -6,  -5,  -4,  -3,  -2,  -1,   0,   1,   2,\n",
       "          3,   4,   5,   6,   7,   8,   9,  10,  11,  12,  13,  14,  15,\n",
       "         16,  17,  18,  19,  20,  21,  22,  23,  24,  25,  26,  27,  28,\n",
       "         29,  30,  31,  32,  33,  34,  35,  36,  37,  38,  39,  40,  41,\n",
       "         42,  43,  44,  45,  46,  47,  48,  49,  50]),\n",
       " array([-49, -48, -47, -46, -45, -44, -43, -42, -41, -40, -39, -38, -37,\n",
       "        -36, -35, -34, -33, -32, -31, -30, -29, -28, -27, -26, -25, -24,\n",
       "        -23, -22, -21, -20, -19, -18, -17, -16, -15, -14, -13, -12, -11,\n",
       "        -10,  -9,  -8,  -7,  -6,  -5,  -4,  -3,  -2,  -1,   0,   1,   2,\n",
       "          3,   4,   5,   6,   7,   8,   9,  10,  11,  12,  13,  14,  15,\n",
       "         16,  17,  18,  19,  20,  21,  22,  23,  24,  25,  26,  27,  28,\n",
       "         29,  30,  31,  32,  33,  34,  35,  36,  37,  38,  39,  40,  41,\n",
       "         42,  43,  44,  45,  46,  47,  48,  49,  50]))"
      ]
     },
     "execution_count": 189,
     "metadata": {},
     "output_type": "execute_result"
    }
   ],
   "source": [
    "pos_x=np.arange(peak_loc[1].any()-r,peak_loc[1].any()+r)#x-position array to be used in centroid calculation\n",
    "pos_y=np.arange(peak_loc[0].any()-r,peak_loc[0].any()+r)#y-position array to be used in centroid calculation\n",
    "pos_x,pos_y"
   ]
  },
  {
   "cell_type": "code",
   "execution_count": 190,
   "metadata": {},
   "outputs": [
    {
     "name": "stdout",
     "output_type": "stream",
     "text": [
      "0.7206765585767007\n",
      "1.0015261258981805\n"
     ]
    },
    {
     "data": {
      "text/plain": [
       "(100, 100)"
      ]
     },
     "execution_count": 190,
     "metadata": {},
     "output_type": "execute_result"
    }
   ],
   "source": [
    "print(np.sum(x_collapse*pos_y)/np.sum(x_collapse))#computing the x-centroid)\n",
    "print(np.sum(y_collapse*pos_x)/np.sum(y_collapse))#computing the y-centroid)\n",
    "star_img.shape"
   ]
  }
 ],
 "metadata": {
  "kernelspec": {
   "display_name": "Python 3",
   "language": "python",
   "name": "python3"
  },
  "language_info": {
   "codemirror_mode": {
    "name": "ipython",
    "version": 3
   },
   "file_extension": ".py",
   "mimetype": "text/x-python",
   "name": "python",
   "nbconvert_exporter": "python",
   "pygments_lexer": "ipython3",
   "version": "3.7.0"
  }
 },
 "nbformat": 4,
 "nbformat_minor": 2
}
